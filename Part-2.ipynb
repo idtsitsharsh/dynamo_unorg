{
 "cells": [
  {
   "cell_type": "code",
   "execution_count": null,
   "id": "0fedada9",
   "metadata": {},
   "outputs": [
    {
     "name": "stderr",
     "output_type": "stream",
     "text": [
      "C:\\Users\\Dell\\AppData\\Local\\Temp\\ipykernel_9328\\264278398.py:8: UserWarning: Parsing dates in %d/%m/%Y format when dayfirst=False (the default) was specified. Pass `dayfirst=True` or specify a format to silence this warning.\n",
      "  merged_df = pd.read_csv(\"clubbed_dataset.csv\", parse_dates=['order_date'])\n"
     ]
    }
   ],
   "source": [
    "import pandas as pd\n",
    "import numpy as np\n",
    "from sklearn.ensemble import RandomForestClassifier\n",
    "from sklearn.model_selection import train_test_split\n",
    "from sklearn.metrics import classification_report\n",
    "merged_df = pd.read_csv(\"clubbed_dataset.csv\", parse_dates=['order_date'])\n"
   ]
  },
  {
   "cell_type": "code",
   "execution_count": null,
   "id": "91b6a2e8",
   "metadata": {},
   "outputs": [
    {
     "name": "stderr",
     "output_type": "stream",
     "text": [
      "C:\\Users\\Dell\\AppData\\Local\\Temp\\ipykernel_9328\\3887997918.py:11: FutureWarning: A value is trying to be set on a copy of a DataFrame or Series through chained assignment using an inplace method.\n",
      "The behavior will change in pandas 3.0. This inplace method will never work because the intermediate object on which we are setting values always behaves as a copy.\n",
      "\n",
      "For example, when doing 'df[col].method(value, inplace=True)', try using 'df.method({col: value}, inplace=True)' or df[col] = df[col].method(value) instead, to perform the operation inplace on the original object.\n",
      "\n",
      "\n",
      "  merged_df['quantity'].fillna(0, inplace=True)\n",
      "C:\\Users\\Dell\\AppData\\Local\\Temp\\ipykernel_9328\\3887997918.py:19: FutureWarning: A value is trying to be set on a copy of a DataFrame or Series through chained assignment using an inplace method.\n",
      "The behavior will change in pandas 3.0. This inplace method will never work because the intermediate object on which we are setting values always behaves as a copy.\n",
      "\n",
      "For example, when doing 'df[col].method(value, inplace=True)', try using 'df.method({col: value}, inplace=True)' or df[col] = df[col].method(value) instead, to perform the operation inplace on the original object.\n",
      "\n",
      "\n",
      "  merged_df['discount_per_unit'].replace([np.inf, -np.inf], 0, inplace=True)\n",
      "C:\\Users\\Dell\\AppData\\Local\\Temp\\ipykernel_9328\\3887997918.py:20: FutureWarning: A value is trying to be set on a copy of a DataFrame or Series through chained assignment using an inplace method.\n",
      "The behavior will change in pandas 3.0. This inplace method will never work because the intermediate object on which we are setting values always behaves as a copy.\n",
      "\n",
      "For example, when doing 'df[col].method(value, inplace=True)', try using 'df.method({col: value}, inplace=True)' or df[col] = df[col].method(value) instead, to perform the operation inplace on the original object.\n",
      "\n",
      "\n",
      "  merged_df['discount_per_unit'].fillna(0, inplace=True)\n"
     ]
    }
   ],
   "source": [
    "merged_df['item_sku_id'] = merged_df['item_name'].astype('category').cat.codes\n",
    "sku_id_to_name = dict(enumerate(merged_df['item_name'].astype('category').cat.categories))\n",
    "merged_df['quantity'].fillna(0, inplace=True)\n",
    "merged_df['ordered'] = (merged_df['quantity'] > 0).astype(int)\n",
    "merged_df['repeat_order_count'] = merged_df.groupby(['customer_id', 'item_sku_id']).cumcount()\n",
    "merged_df['discount_per_unit'] = (merged_df['amount_x'] - merged_df['amount_y']) / merged_df['quantity']\n",
    "merged_df['discount_per_unit'].replace([np.inf, -np.inf], 0, inplace=True)\n",
    "merged_df['discount_per_unit'].fillna(0, inplace=True)\n",
    "merged_df = merged_df.sort_values(['customer_id', 'item_sku_id', 'order_date'])\n",
    "merged_df['qty_last7'] = merged_df.groupby(['customer_id', 'item_sku_id'])['quantity'].transform(lambda x: x.rolling(7, min_periods=1).mean())\n",
    "merged_df['qty_last14'] = merged_df.groupby(['customer_id', 'item_sku_id'])['quantity'].transform(lambda x: x.rolling(14, min_periods=1).mean())\n",
    "merged_df['order_count_last14'] = merged_df.groupby(['customer_id', 'item_sku_id'])['ordered'].transform(lambda x: x.rolling(14, min_periods=1).sum())\n",
    "def compute_days_since_last_order(group):\n",
    "    last_ordered = group[::-1].cumsum()[::-1]\n",
    "    days_since = (~group.astype(bool)).astype(int).cumsum()\n",
    "    days_since[last_ordered == 0] = 99\n",
    "    return days_since\n",
    "\n",
    "merged_df['days_since_last_order'] = merged_df.groupby(['customer_id', 'item_sku_id'])['ordered'].transform(compute_days_since_last_order)\n"
   ]
  },
  {
   "cell_type": "code",
   "execution_count": null,
   "id": "7edb9599",
   "metadata": {},
   "outputs": [
    {
     "name": "stdout",
     "output_type": "stream",
     "text": [
      "✅ SKU-level order predictions saved to 'sku_level_product_order_prediction.csv'\n"
     ]
    },
    {
     "name": "stderr",
     "output_type": "stream",
     "text": [
      "C:\\Users\\Dell\\AppData\\Local\\Temp\\ipykernel_9328\\956895533.py:18: SettingWithCopyWarning: \n",
      "A value is trying to be set on a copy of a slice from a DataFrame.\n",
      "Try using .loc[row_indexer,col_indexer] = value instead\n",
      "\n",
      "See the caveats in the documentation: https://pandas.pydata.org/pandas-docs/stable/user_guide/indexing.html#returning-a-view-versus-a-copy\n",
      "  test['prob_order'] = clf.predict_proba(X_test)[:, list(clf.classes_).index(1)]\n",
      "C:\\Users\\Dell\\AppData\\Local\\Temp\\ipykernel_9328\\956895533.py:24: SettingWithCopyWarning: \n",
      "A value is trying to be set on a copy of a slice from a DataFrame.\n",
      "Try using .loc[row_indexer,col_indexer] = value instead\n",
      "\n",
      "See the caveats in the documentation: https://pandas.pydata.org/pandas-docs/stable/user_guide/indexing.html#returning-a-view-versus-a-copy\n",
      "  test['item_name'] = test['item_sku_id'].map(sku_id_to_name)\n"
     ]
    }
   ],
   "source": [
    "\n",
    "cutoff_date = merged_df['order_date'].max() - pd.Timedelta(days=14)\n",
    "train = merged_df[merged_df['order_date'] < cutoff_date]\n",
    "test = merged_df[merged_df['order_date'] >= cutoff_date]\n",
    "\n",
    "features = ['qty_last7', 'qty_last14', 'order_count_last14', 'days_since_last_order', 'repeat_order_count', 'discount_per_unit']\n",
    "\n",
    "X_train = train[features]\n",
    "y_train = train['ordered']\n",
    "X_test = test[features]\n",
    "\n",
    "clf = RandomForestClassifier(n_estimators=100, random_state=42)\n",
    "clf.fit(X_train, y_train)\n",
    "\n",
    "if 1 in clf.classes_:\n",
    "    test['prob_order'] = clf.predict_proba(X_test)[:, list(clf.classes_).index(1)]\n",
    "else:\n",
    "    test['prob_order'] = 0\n",
    "test['item_name'] = test['item_sku_id'].map(sku_id_to_name)\n",
    "\n",
    "test[['customer_id', 'item_name', 'order_date', 'prob_order']].to_csv('sku_level_product_order_prediction.csv', index=False)\n",
    "print(\"✅ SKU-level order predictions saved to 'sku_level_product_order_prediction.csv'\")\n"
   ]
  },
  {
   "cell_type": "code",
   "execution_count": null,
   "id": "b280f6de",
   "metadata": {},
   "outputs": [],
   "source": []
  }
 ],
 "metadata": {
  "kernelspec": {
   "display_name": "base",
   "language": "python",
   "name": "python3"
  },
  "language_info": {
   "codemirror_mode": {
    "name": "ipython",
    "version": 3
   },
   "file_extension": ".py",
   "mimetype": "text/x-python",
   "name": "python",
   "nbconvert_exporter": "python",
   "pygments_lexer": "ipython3",
   "version": "3.12.4"
  }
 },
 "nbformat": 4,
 "nbformat_minor": 5
}
